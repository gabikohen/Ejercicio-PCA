{
  "nbformat": 4,
  "nbformat_minor": 0,
  "metadata": {
    "colab": {
      "provenance": [],
      "authorship_tag": "ABX9TyN0zoX98FkvS6C6BPyZfVFB",
      "include_colab_link": true
    },
    "kernelspec": {
      "name": "python3",
      "display_name": "Python 3"
    },
    "language_info": {
      "name": "python"
    }
  },
  "cells": [
    {
      "cell_type": "markdown",
      "metadata": {
        "id": "view-in-github",
        "colab_type": "text"
      },
      "source": [
        "<a href=\"https://colab.research.google.com/github/gabikohen/Ejercicio-PCA/blob/master/Ejercicio_de_PCA.ipynb\" target=\"_parent\"><img src=\"https://colab.research.google.com/assets/colab-badge.svg\" alt=\"Open In Colab\"/></a>"
      ]
    },
    {
      "cell_type": "markdown",
      "source": [
        "1. Carga los datos"
      ],
      "metadata": {
        "id": "2x-7Mr0Qiphr"
      }
    },
    {
      "cell_type": "code",
      "execution_count": null,
      "metadata": {
        "colab": {
          "base_uri": "https://localhost:8080/"
        },
        "id": "WUVfKw1eg21b",
        "outputId": "6bdceb28-6852-4f33-9af1-66d368b95aa0"
      },
      "outputs": [
        {
          "output_type": "stream",
          "name": "stdout",
          "text": [
            "Drive already mounted at /content/drive; to attempt to forcibly remount, call drive.mount(\"/content/drive\", force_remount=True).\n"
          ]
        }
      ],
      "source": [
        "from google.colab import drive\n",
        "drive.mount('/content/drive')"
      ]
    },
    {
      "cell_type": "code",
      "source": [
        "from sklearn.datasets import fetch_openml\n",
        "from sklearn.model_selection import train_test_split\n",
        "from sklearn.preprocessing import StandardScaler\n",
        "from sklearn.decomposition import PCA\n",
        "from sklearn.neighbors import KNeighborsClassifier\n",
        "from sklearn.metrics import accuracy_score\n",
        "from sklearn.metrics import classification_report, confusion_matrix"
      ],
      "metadata": {
        "id": "l1XaXCufrzXN"
      },
      "execution_count": null,
      "outputs": []
    },
    {
      "cell_type": "code",
      "source": [
        "# load the dataset\n",
        "from sklearn.datasets import fetch_openml\n",
        "mnist = fetch_openml('mnist_784')\n",
        "# view the shape of the dataset\n",
        "mnist.data.shape"
      ],
      "metadata": {
        "id": "3vRlOFI5iu6V",
        "colab": {
          "base_uri": "https://localhost:8080/"
        },
        "outputId": "d75cfe62-8c29-49fb-9fb7-f3c541154329"
      },
      "execution_count": null,
      "outputs": [
        {
          "output_type": "stream",
          "name": "stderr",
          "text": [
            "/usr/local/lib/python3.10/dist-packages/sklearn/datasets/_openml.py:968: FutureWarning: The default value of `parser` will change from `'liac-arff'` to `'auto'` in 1.4. You can set `parser='auto'` to silence this warning. Therefore, an `ImportError` will be raised from 1.4 if the dataset is dense and pandas is not installed. Note that the pandas parser may return different data types. See the Notes Section in fetch_openml's API doc for details.\n",
            "  warn(\n"
          ]
        },
        {
          "output_type": "execute_result",
          "data": {
            "text/plain": [
              "(70000, 784)"
            ]
          },
          "metadata": {},
          "execution_count": 11
        }
      ]
    },
    {
      "cell_type": "markdown",
      "source": [
        "2. Prepara los datos"
      ],
      "metadata": {
        "id": "QqzAqPgg0W2e"
      }
    },
    {
      "cell_type": "code",
      "execution_count": null,
      "metadata": {
        "id": "1pMidV_k0FD1"
      },
      "outputs": [],
      "source": [
        "X = mnist.data\n",
        "y = mnist.target"
      ]
    },
    {
      "cell_type": "markdown",
      "source": [
        "Train y test"
      ],
      "metadata": {
        "id": "culBlCxtucVg"
      }
    },
    {
      "cell_type": "markdown",
      "source": [
        "Prepara los datos"
      ],
      "metadata": {
        "id": "Q9ECZC4WvEuC"
      }
    },
    {
      "cell_type": "code",
      "source": [
        "X_train, X_test, y_train, y_test = train_test_split(X, y, test_size=0.3, random_state=42)\n"
      ],
      "metadata": {
        "id": "4Ve3eYhruYgv"
      },
      "execution_count": null,
      "outputs": []
    },
    {
      "cell_type": "markdown",
      "source": [
        "Escalar los datos."
      ],
      "metadata": {
        "id": "urbrKtdkyg7H"
      }
    },
    {
      "cell_type": "code",
      "source": [
        "scaler = StandardScaler()\n",
        "X_train_scaled = scaler.fit_transform(X_train)\n",
        "X_test_scaled = scaler.transform(X_test)"
      ],
      "metadata": {
        "id": "ABHNFsYqyGin"
      },
      "execution_count": null,
      "outputs": []
    },
    {
      "cell_type": "markdown",
      "source": [
        "Aplicar PCA para retener el 95% de la varianza"
      ],
      "metadata": {
        "id": "qJaF_yfMMywV"
      }
    },
    {
      "cell_type": "code",
      "source": [
        "pca = PCA(n_components=0.95)\n",
        "X_train_pca = pca.fit_transform(X_train_scaled)\n",
        "X_test_pca = pca.transform(X_test_scaled)"
      ],
      "metadata": {
        "id": "yElXrlMyM4bg"
      },
      "execution_count": null,
      "outputs": []
    },
    {
      "cell_type": "markdown",
      "source": [
        "Ver las dimensiones antes y después de aplicar ACP."
      ],
      "metadata": {
        "id": "39O6wExCNrjL"
      }
    },
    {
      "cell_type": "code",
      "source": [
        "print(\"Dimensiones antes de ACP:\", X_train_scaled.shape)\n",
        "print(\"Dimensiones después de ACP:\", X_train_pca.shape)"
      ],
      "metadata": {
        "colab": {
          "base_uri": "https://localhost:8080/"
        },
        "id": "ZqZUDt6KNrHH",
        "outputId": "5c45fe04-0016-41f2-b7c8-7e8c6820e703"
      },
      "execution_count": null,
      "outputs": [
        {
          "output_type": "stream",
          "name": "stdout",
          "text": [
            "Dimensiones antes de ACP: (49000, 784)\n",
            "Dimensiones después de ACP: (49000, 327)\n"
          ]
        }
      ]
    },
    {
      "cell_type": "markdown",
      "source": [
        "3. Crea 2 modelos KNN"
      ],
      "metadata": {
        "id": "hACeN-dcE4h6"
      }
    },
    {
      "cell_type": "markdown",
      "source": [
        "a. Uno que utilice los datos transformados con ACP para predecir qué número muestra cada imagen."
      ],
      "metadata": {
        "id": "phQYWlenFJJ9"
      }
    },
    {
      "cell_type": "code",
      "source": [
        "knn_pca = KNeighborsClassifier()\n",
        "knn_pca.fit(X_train_pca, y_train)\n",
        "\n",
        "train_preds_knn_pca = knn_pca.predict(X_train_pca)\n",
        "test_preds_knn_pca = knn_pca.predict(X_test_pca)\n",
        "\n",
        "train_score_knn_pca = accuracy_score(y_train, train_preds_knn_pca)\n",
        "test_score_knn_pca = accuracy_score(y_test, test_preds_knn_pca)\n",
        "print (f\"El accuracy del conjunto de train es {train_score_knn_pca:.3f}.\")\n",
        "print (f\"El accuracy del conjunto de test es {test_score_knn_pca:.3f}.\")"
      ],
      "metadata": {
        "colab": {
          "base_uri": "https://localhost:8080/"
        },
        "id": "jr44WKgSE26S",
        "outputId": "d0c69a04-4d38-46a3-dc5f-61af9837132d"
      },
      "execution_count": null,
      "outputs": [
        {
          "output_type": "stream",
          "name": "stdout",
          "text": [
            "El accuracy del conjunto de train es 0.964.\n",
            "El accuracy del conjunto de test es 0.947.\n"
          ]
        }
      ]
    },
    {
      "cell_type": "markdown",
      "source": [
        "b. Uno que utilice los datos originales sin la transformación en ACP (pero recuerda que todavía tienes que escalar los datos)."
      ],
      "metadata": {
        "id": "pJ60P81EFL3G"
      }
    },
    {
      "cell_type": "code",
      "source": [
        "knn_ori = KNeighborsClassifier()\n",
        "knn_ori.fit(X_train_scaled, y_train)\n",
        "\n",
        "train_preds_knn_ori = knn_ori.predict(X_train_scaled)\n",
        "test_preds_knn_ori = knn_ori.predict(X_test_scaled)\n",
        "\n",
        "train_score_knn_ori = accuracy_score(y_train, train_preds_knn_ori)\n",
        "test_score_knn_ori = accuracy_score(y_test, test_preds_knn_ori)\n",
        "print (f\"El accuracy del conjunto de train es {train_score_knn_ori:.3f}.\")\n",
        "print (f\"El accuracy del conjunto de test es {test_score_knn_ori:.3f}.\")"
      ],
      "metadata": {
        "colab": {
          "base_uri": "https://localhost:8080/"
        },
        "id": "CRxadZfFN3uY",
        "outputId": "e31830a7-a426-40bf-f4e0-ec442cb34104"
      },
      "execution_count": null,
      "outputs": [
        {
          "output_type": "stream",
          "name": "stdout",
          "text": [
            "El accuracy del conjunto de train es 0.962.\n",
            "El accuracy del conjunto de test es 0.943.\n"
          ]
        }
      ]
    },
    {
      "cell_type": "markdown",
      "source": [
        "# **4. Evalúa y compara los modelos.**"
      ],
      "metadata": {
        "id": "xCwVyPStP9DN"
      }
    },
    {
      "cell_type": "markdown",
      "source": [
        "Evaluar modelo que utiliza los datos transformados mediante ACP."
      ],
      "metadata": {
        "id": "RyOgECGyFouy"
      }
    },
    {
      "cell_type": "code",
      "source": [
        "%%time\n",
        "print(\"Matriz de Confusión (ACP):\\n\", confusion_matrix(y_test, test_preds_knn_pca))\n",
        "print(\"\\nReporte de Clasificación (ACP):\\n\", classification_report(y_test, test_preds_knn_pca))"
      ],
      "metadata": {
        "id": "myHfwpUxQZVt",
        "colab": {
          "base_uri": "https://localhost:8080/"
        },
        "outputId": "428a6721-2778-476b-89e7-db14eab03a93"
      },
      "execution_count": null,
      "outputs": [
        {
          "output_type": "stream",
          "name": "stdout",
          "text": [
            "Matriz de Confusión (ACP):\n",
            " [[2024    1    5    2    0    7   16    2    1    0]\n",
            " [   0 2342    9    2    3    0    2    3    1    2]\n",
            " [  20   24 2004   25    8    6   16   12   13    5]\n",
            " [   5    4   24 2047    2   27    2   29   20   16]\n",
            " [   0   19   19    2 1822    4    6    7    2   55]\n",
            " [   8    2    2   54    9 1785   27    3   15   10]\n",
            " [  17    3    6    0    8   12 2038    0    4    0]\n",
            " [   3   25   10    7   23    1    0 2104    2   73]\n",
            " [  21   25   19   29   11   57   11   13 1786   20]\n",
            " [  10    6   14   17   36    4    0   57    6 1940]]\n",
            "\n",
            "Reporte de Clasificación (ACP):\n",
            "               precision    recall  f1-score   support\n",
            "\n",
            "           0       0.96      0.98      0.97      2058\n",
            "           1       0.96      0.99      0.97      2364\n",
            "           2       0.95      0.94      0.94      2133\n",
            "           3       0.94      0.94      0.94      2176\n",
            "           4       0.95      0.94      0.94      1936\n",
            "           5       0.94      0.93      0.94      1915\n",
            "           6       0.96      0.98      0.97      2088\n",
            "           7       0.94      0.94      0.94      2248\n",
            "           8       0.97      0.90      0.93      1992\n",
            "           9       0.91      0.93      0.92      2090\n",
            "\n",
            "    accuracy                           0.95     21000\n",
            "   macro avg       0.95      0.95      0.95     21000\n",
            "weighted avg       0.95      0.95      0.95     21000\n",
            "\n",
            "CPU times: user 1.39 s, sys: 1.94 ms, total: 1.39 s\n",
            "Wall time: 1.44 s\n"
          ]
        }
      ]
    },
    {
      "cell_type": "markdown",
      "source": [
        "Evaluar modelo que utiliza los datos originales sin la transformación en ACP."
      ],
      "metadata": {
        "id": "aMTzseboFs9p"
      }
    },
    {
      "cell_type": "code",
      "source": [
        "%%time\n",
        "print(\"Matriz de Confusión (original):\\n\", confusion_matrix(y_test, test_preds_knn_ori))\n",
        "print(\"\\nReporte de Clasificación (original):\\n\", classification_report(y_test, test_preds_knn_ori))"
      ],
      "metadata": {
        "id": "WqT31MdQQlUv",
        "colab": {
          "base_uri": "https://localhost:8080/"
        },
        "outputId": "831b27fe-4445-468f-e87b-6dc11c1d43af"
      },
      "execution_count": null,
      "outputs": [
        {
          "output_type": "stream",
          "name": "stdout",
          "text": [
            "Matriz de Confusión (original):\n",
            " [[2023    1    6    2    0    7   16    2    1    0]\n",
            " [   0 2342   11    2    3    0    2    2    1    1]\n",
            " [  24   26 1991   31    7    7   17   15   10    5]\n",
            " [   4    5   27 2050    2   23    2   28   19   16]\n",
            " [   0   23   19    3 1800    2    6   11    3   69]\n",
            " [  11    3    2   54   12 1784   25    2   11   11]\n",
            " [  17    6    7    0   11   13 2031    0    3    0]\n",
            " [   3   34   10    5   29    1    0 2089    1   76]\n",
            " [  17   31   17   39   11   66   10   16 1767   18]\n",
            " [  10    7   13   21   42    4    0   62    5 1926]]\n",
            "\n",
            "Reporte de Clasificación (original):\n",
            "               precision    recall  f1-score   support\n",
            "\n",
            "           0       0.96      0.98      0.97      2058\n",
            "           1       0.95      0.99      0.97      2364\n",
            "           2       0.95      0.93      0.94      2133\n",
            "           3       0.93      0.94      0.94      2176\n",
            "           4       0.94      0.93      0.93      1936\n",
            "           5       0.94      0.93      0.93      1915\n",
            "           6       0.96      0.97      0.97      2088\n",
            "           7       0.94      0.93      0.93      2248\n",
            "           8       0.97      0.89      0.93      1992\n",
            "           9       0.91      0.92      0.91      2090\n",
            "\n",
            "    accuracy                           0.94     21000\n",
            "   macro avg       0.94      0.94      0.94     21000\n",
            "weighted avg       0.94      0.94      0.94     21000\n",
            "\n",
            "CPU times: user 745 ms, sys: 2.07 ms, total: 747 ms\n",
            "Wall time: 749 ms\n"
          ]
        }
      ]
    },
    {
      "cell_type": "markdown",
      "source": [
        "# 5. Responde las siguientes preguntas en un texto:**bold text**"
      ],
      "metadata": {
        "id": "YZpLmDhKQwCY"
      }
    },
    {
      "cell_type": "markdown",
      "source": [
        "a. ¿Qué modelo funcionó mejor en el conjunto de prueba?\n",
        "\n",
        "La evaluación de los modelos revela que el rendimiento superior se observa en el modelo que utiliza datos transformados mediante ACP. Este modelo exhibió puntajes más altos en métricas clave, como precisión, recall y F1-score, en comparación con el modelo que emplea datos originales. Estos resultados sugieren que la reducción de dimensionalidad proporcionada por ACP contribuyó positivamente a la capacidad predictiva del modelo."
      ],
      "metadata": {
        "id": "DTknGHHuF0Gh"
      }
    },
    {
      "cell_type": "markdown",
      "source": [
        "b. ¿Qué modelo fue el más rápido en hacer predicciones?\n",
        "\n",
        "En cuanto a la velocidad de predicción, se observa que el modelo que utiliza los datos originales muestra tiempos de ejecución más cortos, indicando una mayor eficiencia en la realización de predicciones en comparación con el modelo que utiliza datos transformados mediante ACP. Esto sugiere que, a pesar de la mejora en el rendimiento del modelo con ACP, el modelo con datos originales presenta una ventaja en términos de rapidez en la generación de predicciones."
      ],
      "metadata": {
        "id": "bhl7Be_FF0nE"
      }
    }
  ]
}